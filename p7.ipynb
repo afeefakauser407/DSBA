{
 "cells": [
  {
   "cell_type": "markdown",
   "id": "fd6143bc",
   "metadata": {},
   "source": [
    "#   Assignment No. 07 - Text Analysis\n",
    "\n",
    "#   1. Extract Sample document and apply following document preprocessing methods:\n",
    "#   Tokenization, POS Tagging, stop words removal, Stemming and Lemmatization.\n",
    "#   2. Create representation of document by calculating Term Frequency and Inverse Document Frequency."
   ]
  },
  {
   "cell_type": "markdown",
   "id": "0a07db28",
   "metadata": {},
   "source": [
    "# 1. Document Preprocessing:"
   ]
  },
  {
   "cell_type": "markdown",
   "id": "66b9e53a",
   "metadata": {},
   "source": [
    "Tokenization:\n",
    "Tokenization involves breaking down the text into individual words or tokens. This can be achieved using libraries like NLTK or spaCy in Python."
   ]
  },
  {
   "cell_type": "code",
   "execution_count": 19,
   "id": "de54ab93",
   "metadata": {},
   "outputs": [
    {
     "name": "stdout",
     "output_type": "stream",
     "text": [
      "['Text', 'analytics', 'is', 'the', 'process', 'of', 'analyzing', 'unstructured', 'text', 'data', 'for', 'useful', 'insights', '.']\n"
     ]
    }
   ],
   "source": [
    "import nltk\n",
    "from nltk.tokenize import word_tokenize\n",
    "\n",
    "# Sample document\n",
    "document = \"Text analytics is the process of analyzing unstructured text data for useful insights.\"\n",
    "\n",
    "# Tokenization\n",
    "tokens = word_tokenize(document)\n",
    "print(tokens)\n"
   ]
  },
  {
   "cell_type": "markdown",
   "id": "bd30214e",
   "metadata": {},
   "source": [
    "POS Tagging:\n",
    "POS tagging assigns a part of speech tag to each token in the text."
   ]
  },
  {
   "cell_type": "code",
   "execution_count": 20,
   "id": "060533cb",
   "metadata": {},
   "outputs": [
    {
     "name": "stderr",
     "output_type": "stream",
     "text": [
      "[nltk_data] Downloading package averaged_perceptron_tagger to\n",
      "[nltk_data]     C:\\Users\\afeef\\AppData\\Roaming\\nltk_data...\n",
      "[nltk_data]   Unzipping taggers\\averaged_perceptron_tagger.zip.\n"
     ]
    },
    {
     "name": "stdout",
     "output_type": "stream",
     "text": [
      "[('Text', 'NN'), ('analytics', 'NNS'), ('is', 'VBZ'), ('the', 'DT'), ('process', 'NN'), ('of', 'IN'), ('analyzing', 'VBG'), ('unstructured', 'JJ'), ('text', 'NN'), ('data', 'NNS'), ('for', 'IN'), ('useful', 'JJ'), ('insights', 'NNS'), ('.', '.')]\n"
     ]
    }
   ],
   "source": [
    "# POS Tagging\n",
    "import nltk\n",
    "nltk.download('averaged_perceptron_tagger')\n",
    "\n",
    "pos_tags = nltk.pos_tag(tokens)\n",
    "print(pos_tags)\n"
   ]
  },
  {
   "cell_type": "markdown",
   "id": "c1139738",
   "metadata": {},
   "source": [
    "Stop Words Removal:\n",
    "Stop words are common words that are often removed because they do not carry much significance"
   ]
  },
  {
   "cell_type": "code",
   "execution_count": 21,
   "id": "267cbecb",
   "metadata": {},
   "outputs": [
    {
     "name": "stdout",
     "output_type": "stream",
     "text": [
      "['Text', 'analytics', 'process', 'analyzing', 'unstructured', 'text', 'data', 'useful', 'insights', '.']\n"
     ]
    }
   ],
   "source": [
    "from nltk.corpus import stopwords\n",
    "\n",
    "# Stop words removal\n",
    "stop_words = set(stopwords.words('english'))\n",
    "filtered_tokens = [word for word in tokens if word.lower() not in stop_words]\n",
    "print(filtered_tokens)\n"
   ]
  },
  {
   "cell_type": "markdown",
   "id": "e8124c7f",
   "metadata": {},
   "source": [
    "Stemming and Lemmatization:\n",
    "Stemming reduces words to their root form, while lemmatization reduces them to their base or dictionary form."
   ]
  },
  {
   "cell_type": "code",
   "execution_count": 22,
   "id": "c4578418",
   "metadata": {},
   "outputs": [
    {
     "name": "stdout",
     "output_type": "stream",
     "text": [
      "['text', 'analyt', 'process', 'analyz', 'unstructur', 'text', 'data', 'use', 'insight', '.']\n",
      "['Text', 'analytics', 'process', 'analyzing', 'unstructured', 'text', 'data', 'useful', 'insight', '.']\n"
     ]
    }
   ],
   "source": [
    "from nltk.stem import PorterStemmer, WordNetLemmatizer\n",
    "\n",
    "# Stemming\n",
    "porter = PorterStemmer()\n",
    "stemmed_tokens = [porter.stem(word) for word in filtered_tokens]\n",
    "print(stemmed_tokens)\n",
    "\n",
    "# Lemmatization\n",
    "lemmatizer = WordNetLemmatizer()\n",
    "lemmatized_tokens = [lemmatizer.lemmatize(word) for word in filtered_tokens]\n",
    "print(lemmatized_tokens)\n"
   ]
  },
  {
   "cell_type": "markdown",
   "id": "6f77f0ed",
   "metadata": {},
   "source": [
    "# 2. Document Representation:"
   ]
  },
  {
   "cell_type": "markdown",
   "id": "865e46a7",
   "metadata": {},
   "source": [
    "Term Frequency (TF):\n",
    "Term Frequency measures the frequency of a term in a document."
   ]
  },
  {
   "cell_type": "code",
   "execution_count": 23,
   "id": "c4198b2c",
   "metadata": {},
   "outputs": [
    {
     "name": "stdout",
     "output_type": "stream",
     "text": [
      "Counter({'Text': 1, 'analytics': 1, 'process': 1, 'analyzing': 1, 'unstructured': 1, 'text': 1, 'data': 1, 'useful': 1, 'insights': 1, '.': 1})\n"
     ]
    }
   ],
   "source": [
    "from collections import Counter\n",
    "\n",
    "# Term Frequency\n",
    "tf = Counter(filtered_tokens)\n",
    "print(tf)\n"
   ]
  },
  {
   "cell_type": "markdown",
   "id": "8473ba77",
   "metadata": {},
   "source": [
    "Inverse Document Frequency (IDF):\n",
    "Inverse Document Frequency measures the importance of a term in the entire corpus.\n",
    "\n",
    "python\n"
   ]
  },
  {
   "cell_type": "code",
   "execution_count": 24,
   "id": "87731727",
   "metadata": {},
   "outputs": [
    {
     "name": "stdout",
     "output_type": "stream",
     "text": [
      "{'insights': 0.0, 'unstructured': 0.0, 'analyzing': 0.0, 'useful': 0.0, 'analytics': -0.40546510810816444, 'data': 0.0, 'process': -0.40546510810816444, '.': -0.40546510810816444, 'text': -0.40546510810816444, 'Text': -0.40546510810816444}\n"
     ]
    }
   ],
   "source": [
    "import math\n",
    "\n",
    "def calculate_idf(corpus, term):\n",
    "    doc_containing_term = sum(1 for doc in corpus if term in doc)\n",
    "    return math.log(len(corpus) / (1 + doc_containing_term))\n",
    "\n",
    "# Example corpus\n",
    "corpus = [\"Text analytics is the process of analyzing unstructured text data for useful insights.\",\n",
    "          \"Text analytics involves natural language processing techniques to derive meaningful information from text documents.\"]\n",
    "\n",
    "# Calculate IDF for each term\n",
    "idf = {}\n",
    "for term in set(filtered_tokens):\n",
    "    idf[term] = calculate_idf(corpus, term)\n",
    "\n",
    "print(idf)\n"
   ]
  },
  {
   "cell_type": "code",
   "execution_count": null,
   "id": "9aef3a0f",
   "metadata": {},
   "outputs": [],
   "source": []
  },
  {
   "cell_type": "code",
   "execution_count": null,
   "id": "bffac929",
   "metadata": {},
   "outputs": [],
   "source": []
  }
 ],
 "metadata": {
  "kernelspec": {
   "display_name": "Python 3 (ipykernel)",
   "language": "python",
   "name": "python3"
  },
  "language_info": {
   "codemirror_mode": {
    "name": "ipython",
    "version": 3
   },
   "file_extension": ".py",
   "mimetype": "text/x-python",
   "name": "python",
   "nbconvert_exporter": "python",
   "pygments_lexer": "ipython3",
   "version": "3.11.5"
  }
 },
 "nbformat": 4,
 "nbformat_minor": 5
}
